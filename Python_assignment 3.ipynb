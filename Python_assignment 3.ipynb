{
 "cells": [
  {
   "cell_type": "code",
   "execution_count": 1,
   "id": "80f8a9d5",
   "metadata": {},
   "outputs": [
    {
     "name": "stdout",
     "output_type": "stream",
     "text": [
      "length in cm :50\n",
      "breadth in cm :20\n",
      "Area of rectangle is: 1000 cm^2\n"
     ]
    }
   ],
   "source": [
    "#1. wap area of rectangle:\n",
    "l = int(input(\"length in cm :\"))\n",
    "b = int(input(\"breadth in cm :\"))\n",
    "a =l*b\n",
    "print(\"Area of rectangle is:\",a,\"cm^2\")"
   ]
  },
  {
   "cell_type": "code",
   "execution_count": 2,
   "id": "81a189ab",
   "metadata": {},
   "outputs": [
    {
     "name": "stdout",
     "output_type": "stream",
     "text": [
      "Enter your radius :50\n",
      "Area of circle is : 7850.0\n"
     ]
    }
   ],
   "source": [
    "# 2. Wap area of circle:\n",
    "r = int(input(\"Enter your radius :\"))\n",
    "a = 3.14*(r*r)\n",
    "print(\"Area of circle is :\",a)"
   ]
  },
  {
   "cell_type": "code",
   "execution_count": 2,
   "id": "a3f6da40",
   "metadata": {},
   "outputs": [
    {
     "name": "stdout",
     "output_type": "stream",
     "text": [
      "Enter length :10\n",
      "Enter breadth :20\n",
      "Enter height :10\n",
      "Area of cuboid : 1000\n"
     ]
    }
   ],
   "source": [
    "# 3.Wap area of cuboid:\n",
    "l = int(input(\"Enter length :\"))\n",
    "b = int(input(\"Enter breadth :\"))\n",
    "h = int(input(\"Enter height :\"))\n",
    "a =2*(l*b+b*h+h*l)\n",
    "print(\"Area of cuboid :\",a)"
   ]
  },
  {
   "cell_type": "code",
   "execution_count": 4,
   "id": "44810d08",
   "metadata": {},
   "outputs": [
    {
     "name": "stdout",
     "output_type": "stream",
     "text": [
      "Enter length of the cube :5\n",
      "Area of the cube is : 150\n"
     ]
    }
   ],
   "source": [
    "# 4.Wap area of cube:\n",
    "a = int(input(\"Enter length of the cube :\"))\n",
    "x =6*(a*a)\n",
    "print(\"Area of the cube is :\",x)"
   ]
  },
  {
   "cell_type": "code",
   "execution_count": 2,
   "id": "1204ac2c",
   "metadata": {},
   "outputs": [
    {
     "name": "stdout",
     "output_type": "stream",
     "text": [
      "enter radius :5\n",
      "enter height :23\n",
      "area of c.s.a of cylinder is : 722.2\n"
     ]
    }
   ],
   "source": [
    "# 5.Wap area of csa of cylinder:\n",
    "r = int(input(\"enter radius :\"))\n",
    "h = int(input(\"enter height :\"))\n",
    "a =2*(3.14*(r*h))\n",
    "print(\"area of c.s.a of cylinder is :\",a)"
   ]
  },
  {
   "cell_type": "code",
   "execution_count": 3,
   "id": "6f533f25",
   "metadata": {},
   "outputs": [
    {
     "name": "stdout",
     "output_type": "stream",
     "text": [
      "enter radius :5\n",
      "enter height :6\n",
      "area of t.s.a of cylinder is : 345.40000000000003\n"
     ]
    }
   ],
   "source": [
    "# 6.Wap area of tsa of cylinder:\n",
    "r = int(input(\"enter radius :\"))\n",
    "h = int(input(\"enter height :\"))\n",
    "a =2*3.14*r*(r+h)\n",
    "print(\"area of t.s.a of cylinder is :\",a)"
   ]
  },
  {
   "cell_type": "code",
   "execution_count": 4,
   "id": "5ccf45dc",
   "metadata": {},
   "outputs": [
    {
     "name": "stdout",
     "output_type": "stream",
     "text": [
      "enter radius5\n",
      "enter length5\n",
      "area of c.s.a of cone is : 78.5\n"
     ]
    }
   ],
   "source": [
    "# 7. Wap area of csa of a cone:\n",
    "r = int(input(\"enter radius\"))\n",
    "l = int(input(\"enter length\"))\n",
    "a = 3.14*r*l\n",
    "print(\"area of c.s.a of cone is :\",a)"
   ]
  },
  {
   "cell_type": "code",
   "execution_count": 6,
   "id": "8cb53eee",
   "metadata": {},
   "outputs": [
    {
     "name": "stdout",
     "output_type": "stream",
     "text": [
      "enter radius5\n",
      "enter the slant height3\n",
      "area of t.s.a of circular cone is : 125.60000000000001\n"
     ]
    }
   ],
   "source": [
    "# 8.Wap area of tsa of right circular cone:\n",
    "r = int(input(\"enter radius\"))\n",
    "h = int(input(\"enter the slant height\"))\n",
    "a = 3.14*r*(h+r)\n",
    "print(\"area of t.s.a of circular cone is :\",a)"
   ]
  },
  {
   "cell_type": "code",
   "execution_count": 2,
   "id": "45e0e458",
   "metadata": {},
   "outputs": [
    {
     "name": "stdout",
     "output_type": "stream",
     "text": [
      "enter radius :5\n",
      "t.s.a of sphere is : 314.0\n"
     ]
    }
   ],
   "source": [
    "# 9.Wap tsa of sphere:\n",
    "r = int(input(\"enter radius :\"))\n",
    "a = 4*3.14*(r*r)\n",
    "print(\"t.s.a of sphere is :\",a)"
   ]
  },
  {
   "cell_type": "code",
   "execution_count": 3,
   "id": "02a170e1",
   "metadata": {},
   "outputs": [
    {
     "name": "stdout",
     "output_type": "stream",
     "text": [
      "enter length:5\n",
      "enter breadth:6\n",
      "enter height:2\n",
      "volume of cuboid is : 60\n"
     ]
    }
   ],
   "source": [
    "# 10.Wap volume of cuboid:\n",
    "l = int(input(\"enter length:\"))\n",
    "b = int(input(\"enter breadth:\"))\n",
    "h = int(input(\"enter height:\"))\n",
    "a = l*b*h\n",
    "print(\"volume of cuboid is :\",a)"
   ]
  },
  {
   "cell_type": "code",
   "execution_count": 4,
   "id": "950511dc",
   "metadata": {},
   "outputs": [
    {
     "name": "stdout",
     "output_type": "stream",
     "text": [
      "enter length:5\n",
      "volume of cube is: 125\n"
     ]
    }
   ],
   "source": [
    "# 11.Wap volume of cube:\n",
    "l = int(input(\"enter length:\"))\n",
    "a = l*l*l\n",
    "print(\"volume of cube is:\",a)"
   ]
  },
  {
   "cell_type": "code",
   "execution_count": 5,
   "id": "9b8fa7e9",
   "metadata": {},
   "outputs": [
    {
     "name": "stdout",
     "output_type": "stream",
     "text": [
      "enter radius:2\n",
      "enter height:9\n",
      "volume of cylinder is : 113.04\n"
     ]
    }
   ],
   "source": [
    "# 12.Wap volume of cylinder:\n",
    "r = int(input(\"enter radius:\"))\n",
    "h = int(input(\"enter height:\"))\n",
    "v = 3.14*(r*r)*h\n",
    "print(\"volume of cylinder is :\",v)"
   ]
  },
  {
   "cell_type": "code",
   "execution_count": 6,
   "id": "1ca4e1ce",
   "metadata": {},
   "outputs": [
    {
     "name": "stdout",
     "output_type": "stream",
     "text": [
      "Enter radius5\n",
      "Enter height3\n",
      "Volume is: 78.5\n"
     ]
    }
   ],
   "source": [
    "# 13.WAP VOLUME OF CONE\n",
    "r=int(input(\"Enter radius\"))\n",
    "h=int(input(\"Enter height\"))\n",
    "v=1/3*(3.14*(r*r)*h)\n",
    "print(\"Volume is:\",v)"
   ]
  },
  {
   "cell_type": "code",
   "execution_count": 7,
   "id": "0236fe21",
   "metadata": {},
   "outputs": [
    {
     "name": "stdout",
     "output_type": "stream",
     "text": [
      "Enter radius2\n",
      "Volumeis: 33.49333333333333\n"
     ]
    }
   ],
   "source": [
    "# 14.WAP VOLUME OF SPHERE\n",
    "r=int(input(\"Enter radius\"))\n",
    "v=4/3*(3.14*(r*r*r))\n",
    "print(\"Volumeis:\",v)"
   ]
  },
  {
   "cell_type": "code",
   "execution_count": 8,
   "id": "ce0a1420",
   "metadata": {},
   "outputs": [
    {
     "name": "stdout",
     "output_type": "stream",
     "text": [
      "Enter length in cm26\n",
      "Enter breadth in cm12\n",
      "Parameter of rectangle is: 76 cm\n"
     ]
    }
   ],
   "source": [
    "# 15.WAP PERIMETER OF RECTANGLE\n",
    "l=int(input(\"Enter length in cm\"))\n",
    "b=int(input(\"Enter breadth in cm\"))\n",
    "a=2*(l+b)\n",
    "print(\"Parameter of rectangle is:\",a,\"cm\")"
   ]
  },
  {
   "cell_type": "code",
   "execution_count": 9,
   "id": "cda51190",
   "metadata": {},
   "outputs": [
    {
     "name": "stdout",
     "output_type": "stream",
     "text": [
      "Enter length in cm2\n",
      "Your area of squre is: 4 cm^2\n"
     ]
    }
   ],
   "source": [
    "# 16.WAP AREA OF SQUARE\n",
    "A=int(input(\"Enter length in cm\"))\n",
    "x=A*A\n",
    "print(\"Your area of squre is:\",x,\"cm^2\")"
   ]
  },
  {
   "cell_type": "code",
   "execution_count": 10,
   "id": "457565d4",
   "metadata": {},
   "outputs": [
    {
     "name": "stdout",
     "output_type": "stream",
     "text": [
      "Enter height4\n",
      "Enter base5\n",
      "Your area is: 10.0 cm^2\n"
     ]
    }
   ],
   "source": [
    "# 17.WAP AREA OF TRIANGLE\n",
    "h = int(input(\"Enter height\"))\n",
    "b = int(input(\"Enter base\"))\n",
    "a = 1/2*(b*h)\n",
    "print(\"Your area is:\",a,\"cm^2\")"
   ]
  },
  {
   "cell_type": "code",
   "execution_count": 11,
   "id": "b4cc891d",
   "metadata": {},
   "outputs": [
    {
     "name": "stdout",
     "output_type": "stream",
     "text": [
      "Enter first no :5\n",
      "Enter second no :6\n",
      "Enter third no :7\n",
      "the gratest no is : 7\n"
     ]
    }
   ],
   "source": [
    "# 18.WAP GREATEST NO. IN THREE NO.\n",
    "a = int(input(\"Enter first no :\"))\n",
    "b = int(input(\"Enter second no :\"))\n",
    "c = int(input(\"Enter third no :\"))\n",
    "\n",
    "if a>b:\n",
    "    if a>c:\n",
    "        print(\"the gratest no is :\",a)\n",
    "    else:\n",
    "        print(\"the gartest no is :\",c)\n",
    "else:\n",
    "    if b>c:\n",
    "        print(\"the gratest no is :\",b)\n",
    "    else:\n",
    "        print(\"the gratest no is :\",c)"
   ]
  },
  {
   "cell_type": "code",
   "execution_count": 12,
   "id": "da5f54da",
   "metadata": {},
   "outputs": [
    {
     "name": "stdout",
     "output_type": "stream",
     "text": [
      "Enter first side of tringle :2\n",
      "Enter scond side of triangle :2\n",
      "Enter third side of triangle :3\n",
      "The perimeter is : 7\n"
     ]
    }
   ],
   "source": [
    "# 19.WAP PERIMETER OF TRIANGLE\n",
    "a = int(input(\"Enter first side of tringle :\"))\n",
    "b = int(input(\"Enter scond side of triangle :\"))\n",
    "c = int(input(\"Enter third side of triangle :\"))\n",
    "perimeter = a+b+c\n",
    "print(\"The perimeter is :\",perimeter)"
   ]
  },
  {
   "cell_type": "code",
   "execution_count": 13,
   "id": "a77c9570",
   "metadata": {},
   "outputs": [
    {
     "name": "stdout",
     "output_type": "stream",
     "text": [
      "Enter first no :55\n",
      "Enter second no :66\n",
      "Enter third no :35\n",
      "Enter fourth no :55\n",
      "gratest number is : 66.0\n"
     ]
    }
   ],
   "source": [
    "# 20.WAP GREATEST NO. IN FOUR NO.\n",
    "a = float(input(\"Enter first no :\"))\n",
    "b = float(input(\"Enter second no :\"))\n",
    "c = float(input(\"Enter third no :\"))\n",
    "d = float(input(\"Enter fourth no :\"))\n",
    "if (a>b and a>c and a>d):\n",
    "    print(\"greatest number is :\",a)\n",
    "elif(b>c and b>d):\n",
    "    print(\"gratest number is :\",b)\n",
    "elif (c>d):\n",
    "    print(\"greatest number is :\",c)\n",
    "elif (d>c):\n",
    "    print(\"gratest number is :\",d)\n",
    "else:\n",
    "    print(\"Either any two values or all the four values are equal\")"
   ]
  },
  {
   "cell_type": "code",
   "execution_count": 14,
   "id": "ddc15406",
   "metadata": {},
   "outputs": [
    {
     "name": "stdout",
     "output_type": "stream",
     "text": [
      "Enter marks out of 300 :254\n",
      "percentage is : 84.66666666666667 %\n",
      "your division is first\n"
     ]
    }
   ],
   "source": [
    "# 21.WAP TO CHECK DIVISION IN RESULT\n",
    "a = eval(input(\"Enter marks out of 300 :\"))\n",
    "b = a/300*100\n",
    "print(\"percentage is :\",b,\"%\")\n",
    "if (a>300):\n",
    "    print(\"you entered the wrong marks\")\n",
    "elif b>60:\n",
    "    print(\"your division is first\")\n",
    "elif(b>50 and b>53):\n",
    "    print(\"your division is second\")\n",
    "elif(b>33 and b>50):\n",
    "    print(\"your division is third\")\n",
    "else:\n",
    "    print(\"fail\")"
   ]
  },
  {
   "cell_type": "code",
   "execution_count": 15,
   "id": "8a3a3f3b",
   "metadata": {},
   "outputs": [
    {
     "name": "stdout",
     "output_type": "stream",
     "text": [
      "Enter your age :18\n",
      "teenager\n"
     ]
    }
   ],
   "source": [
    "# 22.WAP TO CHEAK AGE CRITERIA\n",
    "y = int(input(\"Enter your age :\"))\n",
    "if (y>0 and y<12):\n",
    "    print(\"kid\")\n",
    "elif(y>12 and y<19):\n",
    "    print(\"teenager\")\n",
    "elif(y>19 and y<30):\n",
    "    print(\"young\")\n",
    "elif(y>30 and y<45):\n",
    "    print(\"mature\")\n",
    "elif(y>45 and y<60):\n",
    "    print(\"experienced\")\n",
    "elif(y>60 and y>75):\n",
    "    print(\"old\")\n",
    "elif(y>75):\n",
    "    print(\"senior citizen\")"
   ]
  },
  {
   "cell_type": "code",
   "execution_count": 16,
   "id": "208df95f",
   "metadata": {},
   "outputs": [
    {
     "name": "stdout",
     "output_type": "stream",
     "text": [
      "Enter limit :5\n",
      "The sum is : 10\n"
     ]
    }
   ],
   "source": [
    "# 23.WAP SUM OF Nth NO\n",
    "n = int(input(\"Enter limit :\"))\n",
    "s = 0\n",
    "for c in range(1,n):\n",
    "    s = c+s\n",
    "print(\"The sum is :\",s)\n"
   ]
  },
  {
   "cell_type": "code",
   "execution_count": 17,
   "id": "17182e1c",
   "metadata": {},
   "outputs": [
    {
     "name": "stdout",
     "output_type": "stream",
     "text": [
      "Enter a number :10\n",
      "the factorial of 10 is 3670344486987776\n"
     ]
    }
   ],
   "source": [
    "# 24.WAP TO CHEAK THE VALUE OF FACTORIAL\n",
    "a = int(input(\"Enter a number :\"))\n",
    "factorial = l\n",
    "if a<0:\n",
    "    print(\"sorry,factorial does not exist for negative number\")\n",
    "elif a==0:\n",
    "    print(\"the factorial of 0 is 1\")\n",
    "else:\n",
    "    for i in range (l,a+l):\n",
    "        factorial=factorial*l\n",
    "    print(\"the factorial of\",a,\"is\",factorial)"
   ]
  },
  {
   "cell_type": "code",
   "execution_count": 18,
   "id": "11ee4af4",
   "metadata": {},
   "outputs": [
    {
     "name": "stdout",
     "output_type": "stream",
     "text": [
      "Show thw multiplication table of?18\n",
      "18 X 1 = 18\n",
      "18 X 2 = 36\n",
      "18 X 3 = 54\n",
      "18 X 4 = 72\n",
      "18 X 5 = 90\n",
      "18 X 6 = 108\n",
      "18 X 7 = 126\n",
      "18 X 8 = 144\n",
      "18 X 9 = 162\n",
      "18 X 10 = 180\n"
     ]
    }
   ],
   "source": [
    "# 25.WAP TO PRINT MULTIPLICATION TABLE\n",
    "a = int(input(\"Show thw multiplication table of?\"))\n",
    "for i in range(1,11):\n",
    "    print(a,\"X\",i,\"=\",a*i)"
   ]
  },
  {
   "cell_type": "code",
   "execution_count": 19,
   "id": "607544b5",
   "metadata": {},
   "outputs": [
    {
     "name": "stdout",
     "output_type": "stream",
     "text": [
      "Enter the number rows5\n",
      "*****\n",
      "****\n",
      "***\n",
      "**\n",
      "*\n"
     ]
    }
   ],
   "source": [
    "# 26.WAP TO PRINT OPPOSITE RIGHT ANGLE TRIANGLE\n",
    "num = int(input(\"Enter the number rows\"))\n",
    "for i in range(num,0,-1):\n",
    "    for j in range(0,i):\n",
    "        print(\"*\",end=\"\")\n",
    "    print()"
   ]
  },
  {
   "cell_type": "code",
   "execution_count": 20,
   "id": "88b75359",
   "metadata": {},
   "outputs": [
    {
     "name": "stdout",
     "output_type": "stream",
     "text": [
      "Enter the no rows :5\n",
      "1\n",
      "22\n",
      "333\n",
      "4444\n",
      "55555\n"
     ]
    }
   ],
   "source": [
    "# 27.WAP TO PRINT 1,22,333,444\n",
    "n = int(input(\"Enter the no rows :\"))\n",
    "for i in range(1,n+1):\n",
    "    for j in range(1,i+1):\n",
    "        print(i,end=\"\")\n",
    "    print()"
   ]
  },
  {
   "cell_type": "code",
   "execution_count": 21,
   "id": "7de9bdfb",
   "metadata": {},
   "outputs": [
    {
     "name": "stdout",
     "output_type": "stream",
     "text": [
      "Enter the number rows :5\n",
      "*\n",
      "**\n",
      "***\n",
      "****\n",
      "*****\n"
     ]
    }
   ],
   "source": [
    "# 28.WAP TO PRINT STAR PATTERN OF OPPOSITE TRIANGLE\n",
    "num = int(input(\"Enter the number rows :\"))\n",
    "for i in range(0,num):\n",
    "    for j in range(0,num-i):\n",
    "        print(\"\",end=\"\")\n",
    "    for k in range(0,i+1):\n",
    "        print(\"*\",end=\"\")\n",
    "    print()"
   ]
  },
  {
   "cell_type": "code",
   "execution_count": 22,
   "id": "d6af6364",
   "metadata": {},
   "outputs": [
    {
     "name": "stdout",
     "output_type": "stream",
     "text": [
      "Enter the no of rows :5\n",
      "1\n",
      "12\n",
      "123\n",
      "1234\n",
      "12345\n"
     ]
    }
   ],
   "source": [
    "# 29.WAP TO PRINT PATTERN 1,12,123\n",
    "n = int(input(\"Enter the no of rows :\"))\n",
    "for i in range(1,n+1):\n",
    "    for j in range(1,i+1):\n",
    "        print(j,end=\"\")\n",
    "    print()"
   ]
  },
  {
   "cell_type": "code",
   "execution_count": 23,
   "id": "dda481b9",
   "metadata": {},
   "outputs": [
    {
     "name": "stdout",
     "output_type": "stream",
     "text": [
      "Enter the range :5\n",
      "0\n",
      "1\n",
      "1\n",
      "2\n",
      "3\n"
     ]
    }
   ],
   "source": [
    "# 30.WAP TO PRINT FIBONACCI SERIES USE WHILE LOOP\n",
    "a = eval(input(\"Enter the range :\"))\n",
    "i = 0\n",
    "first_value = 0\n",
    "second_value = 1\n",
    "while(i<a):\n",
    "    if(i<=1):\n",
    "        Next=i\n",
    "    else:\n",
    "        Next = first_value + second_value\n",
    "        first_value = second_value\n",
    "        second_value = Next\n",
    "    print(Next)\n",
    "    i=i+1"
   ]
  },
  {
   "cell_type": "code",
   "execution_count": 1,
   "id": "499c962d",
   "metadata": {},
   "outputs": [
    {
     "name": "stdout",
     "output_type": "stream",
     "text": [
      "Enter the range :5\n",
      "1\n",
      "2\n",
      "3\n",
      "5\n",
      "8\n"
     ]
    }
   ],
   "source": [
    "# 31.WAP TO PRINT FIBONACCI SERIES USE FOR LOOP\n",
    "number = int(input(\"Enter the range :\"))\n",
    "first_value = 0\n",
    "second_value = 1 \n",
    "for num in range(0,number):\n",
    "    if(number<=1):\n",
    "        NEXT=number\n",
    "    else:\n",
    "        NEXT=first_value + second_value\n",
    "        first_value=second_value\n",
    "        second_value= NEXT\n",
    "    print( NEXT)"
   ]
  },
  {
   "cell_type": "code",
   "execution_count": 8,
   "id": "689637bb",
   "metadata": {},
   "outputs": [
    {
     "name": "stdout",
     "output_type": "stream",
     "text": [
      "enter characterC\n",
      "A\n",
      "AB\n",
      "ABC\n"
     ]
    }
   ],
   "source": [
    "# 32.Wap to print A,AB,ABC\n",
    "ch = str(input('enter character'))\n",
    "a = ord(ch)\n",
    "for x in range (65,a+1):\n",
    "    for c in range(65,x+1):\n",
    "        print(chr(c),end = \"\")\n",
    "    print(\"\")"
   ]
  },
  {
   "cell_type": "code",
   "execution_count": 9,
   "id": "5a10f2cb",
   "metadata": {},
   "outputs": [
    {
     "name": "stdout",
     "output_type": "stream",
     "text": [
      "enter the number5\n",
      "enter power2\n",
      "25\n"
     ]
    }
   ],
   "source": [
    "# 33.Wap to calculation Xn by for loop\n",
    "x = int(input(\"enter the number\"))\n",
    "b = int(input(\"enter power\"))\n",
    "y = x\n",
    "for a in range(0,b-1):\n",
    "    y = x*y\n",
    "print(y)"
   ]
  },
  {
   "cell_type": "code",
   "execution_count": 10,
   "id": "9f1fc380",
   "metadata": {},
   "outputs": [
    {
     "name": "stdout",
     "output_type": "stream",
     "text": [
      "enter the number2\n",
      "enter power2\n",
      "4\n"
     ]
    }
   ],
   "source": [
    "# 34.Wap to calculation of X^n\n",
    "a = int(input(\"enter the number\"))\n",
    "b = int(input(\"enter power\"))\n",
    "c= a**b\n",
    "print(c)"
   ]
  },
  {
   "cell_type": "code",
   "execution_count": 11,
   "id": "749d5b48",
   "metadata": {},
   "outputs": [
    {
     "name": "stdout",
     "output_type": "stream",
     "text": [
      "enter number121\n",
      "the number is palindrome\n"
     ]
    }
   ],
   "source": [
    "# 35.Wap to print the integer is palindrome or not an palindrome\n",
    "n=int(input(\"enter number\"))\n",
    "\n",
    "x=n\n",
    "r=0\n",
    "\n",
    "while n>0:\n",
    "    d=n%10\n",
    "\n",
    "    r=r*10+d\n",
    "    n=n//10\n",
    "\n",
    "if x==r:\n",
    "    print(\"the number is palindrome\")\n",
    "\n",
    "else:\n",
    "    print(\"the number is not palindrome\")"
   ]
  },
  {
   "cell_type": "code",
   "execution_count": 13,
   "id": "7e238481",
   "metadata": {},
   "outputs": [
    {
     "name": "stdout",
     "output_type": "stream",
     "text": [
      "enter the element of list5\n",
      "do you want to add more element :Y\n",
      "enter the element of list6\n",
      "do you want to add more element :Y\n",
      "enter the element of list62\n",
      "do you want to add more element :N\n",
      "The list is  [5, 6, 62]\n",
      "The factorial of each element is: [120, 720, 31469973260387937525653122354950764088012280797258232192163168247821107200000000000000]\n"
     ]
    }
   ],
   "source": [
    "# 36.Wap to print factorial of list:\n",
    "a = []\n",
    "fact = []\n",
    "ch =\"y\"\n",
    "while ch ==\"y\" or ch ==\"Y\":\n",
    "    item = int(input(\"enter the element of list\"))\n",
    "    a.append(item)\n",
    "    ch = input(\"do you want to add more element :\")\n",
    "print(\"The list is \",a)\n",
    "for i in a:\n",
    "    f=1\n",
    "    for j in range(1,i+1):\n",
    "        f=f*j\n",
    "    fact.append(f)\n",
    "    \n",
    "print(\"The factorial of each element is:\",fact)"
   ]
  },
  {
   "cell_type": "code",
   "execution_count": 15,
   "id": "d111bbca",
   "metadata": {},
   "outputs": [
    {
     "name": "stdout",
     "output_type": "stream",
     "text": [
      "enter rows5\n",
      "    * \n",
      "   * * \n",
      "  * * * \n",
      " * * * * \n",
      "* * * * * \n"
     ]
    }
   ],
   "source": [
    "# 37.Wap to print Pascals Triangle:\n",
    "n = int(input(\"enter rows\"))\n",
    "for i in range(0,n):\n",
    "    for j in range(0,n-i-1):\n",
    "        print(end = \" \")\n",
    "        \n",
    "    for j in range(0,i+1):\n",
    "        print(\"*\",end =\" \")\n",
    "    print()"
   ]
  },
  {
   "cell_type": "code",
   "execution_count": 7,
   "id": "a2709cba",
   "metadata": {
    "scrolled": true
   },
   "outputs": [
    {
     "name": "stdout",
     "output_type": "stream",
     "text": [
      "enter limit4\n",
      "enter element11\n",
      "enter element54\n",
      "enter element32\n",
      "enter element5\n",
      "[11, 54, 32, 5]\n"
     ]
    }
   ],
   "source": [
    "# 38.Wap to create a list of value inputted by user\n",
    "a=eval(input(\"enter limit\"))\n",
    "n=[]\n",
    "for a in range(1,a+1):\n",
    "    a=eval(input(\"enter element\"))\n",
    "    n.append(a)\n",
    "print(n)"
   ]
  },
  {
   "cell_type": "code",
   "execution_count": 8,
   "id": "28c4e70e",
   "metadata": {},
   "outputs": [
    {
     "name": "stdout",
     "output_type": "stream",
     "text": [
      "enter limit5\n",
      "enter element123\n",
      "enter element543\n",
      "enter element678\n",
      "enter element345\n",
      "enter element974\n",
      "[123, 543, 678, 345, 974]\n",
      "after sorting the list is\n",
      "[123, 345, 543, 678, 974]\n"
     ]
    }
   ],
   "source": [
    "## 39.Wap to create a list of values inputted by user sort in increasing order\n",
    "a=eval(input(\"enter limit\"))\n",
    "lst=[]\n",
    "for a in range(1,a+1):\n",
    "    a=eval(input(\"enter element\"))\n",
    "    lst.append(a)\n",
    "print(lst)\n",
    "l=len(lst)\n",
    "for i in range(l):\n",
    "    for j in range(0,l-i-1):\n",
    "        if lst[j]>lst[j+1]:\n",
    "            temp=lst[j]\n",
    "            lst[j]=lst[j+1]\n",
    "            lst[j+1]=temp\n",
    "print(\"after sorting the list is\")\n",
    "print(lst)"
   ]
  },
  {
   "cell_type": "code",
   "execution_count": 5,
   "id": "13783cde",
   "metadata": {},
   "outputs": [
    {
     "name": "stdout",
     "output_type": "stream",
     "text": [
      "enter limit5\n",
      "enter element23\n",
      "enter element45\n",
      "enter element56\n",
      "enter element76\n",
      "enter element54\n",
      "[23, 45, 56, 76, 54]\n",
      "after sorting the list is\n",
      "[23, 45, 54, 54, 54]\n"
     ]
    }
   ],
   "source": [
    "# 40.Sorting in accending order use bubble sort\n",
    "a=eval(input(\"enter limit\"))\n",
    "lst=[]\n",
    "for a in range(1,a+1):\n",
    "    a=eval(input(\"enter element\"))\n",
    "    lst.append(a)\n",
    "print(lst)\n",
    "l=len(lst)\n",
    "for i in range(l):\n",
    "    for j in range(0,l-i-1):\n",
    "        if lst[j]>lst[j+1]:\n",
    "            temp=lst[j]\n",
    "            lst[j]=lst[j+1]\n",
    "            lst[j+1]+temp\n",
    "print(\"after sorting the list is\")\n",
    "print(lst)"
   ]
  },
  {
   "cell_type": "code",
   "execution_count": 4,
   "id": "475ff4c5",
   "metadata": {},
   "outputs": [
    {
     "name": "stdout",
     "output_type": "stream",
     "text": [
      "enter limit3\n",
      "enter mobile number7498136946\n",
      "enter nameSagar\n",
      "enter mobile number9172814147\n",
      "enter nameDada\n",
      "enter mobile number7350851876\n",
      "enter nameSam\n",
      "{7498136946: 'Sagar', 9172814147: 'Dada', 7350851876: 'Sam'}\n",
      "enter the no to search in dictionary7350851876\n",
      "The name of person is Sam\n"
     ]
    }
   ],
   "source": [
    "# 41.Wap in python to create a phone dictionary\n",
    "n=int(input(\"enter limit\"))\n",
    "m={}\n",
    "mob=0\n",
    "name=\"\"\n",
    "i=0\n",
    "for i in range(0,n):\n",
    "    mob=int(input(\"enter mobile number\"))\n",
    "    name=str(input(\"enter name\"))\n",
    "    z2=dict({mob:name})\n",
    "    m.update(z2)\n",
    "print(m)\n",
    "n=int(input(\"enter the no to search in dictionary\"))\n",
    "print(\"The name of person is\",m[n])"
   ]
  },
  {
   "cell_type": "code",
   "execution_count": 3,
   "id": "e71ab0a8",
   "metadata": {},
   "outputs": [
    {
     "name": "stdout",
     "output_type": "stream",
     "text": [
      "enter number5\n",
      "5 is prime number\n"
     ]
    }
   ],
   "source": [
    "# 42.Wap to find given number is prime or not\n",
    "num=int(input(\"enter number\"))\n",
    "lim=int(num/2)+1\n",
    "for i in range(2,lim):\n",
    "    rem=num%i\n",
    "    if rem==0:\n",
    "        print(num,\"is not prime number\")\n",
    "else:\n",
    "    print(num,\"is prime number\")"
   ]
  },
  {
   "cell_type": "code",
   "execution_count": 2,
   "id": "8453a6d2",
   "metadata": {},
   "outputs": [
    {
     "name": "stdout",
     "output_type": "stream",
     "text": [
      "enter number6\n",
      "6 is even number\n"
     ]
    }
   ],
   "source": [
    "# 42.wap to find given number is even or odd\n",
    "a=int(input(\"enter number\"))\n",
    "r=a%2\n",
    "if r==0:\n",
    "    print(a,\"is even number\")\n",
    "elif r>0:\n",
    "    print(a,\"is odd number\")\n",
    "else:\n",
    "    print(\"you enter a number is 0 or less than 0\")"
   ]
  },
  {
   "cell_type": "code",
   "execution_count": 1,
   "id": "91abaf20",
   "metadata": {},
   "outputs": [
    {
     "name": "stdout",
     "output_type": "stream",
     "text": [
      "enter limit5\n",
      "enter element33\n",
      "enter element44\n",
      "enter element55\n",
      "enter element66\n",
      "enter element77\n",
      "tuple is (33, 44, 55, 66, 77)\n"
     ]
    }
   ],
   "source": [
    "# 43. Wap to create a tuple of values inputed by user\n",
    "a=()\n",
    "l=[]\n",
    "n=int(input(\"enter limit\"))\n",
    "for i in range(0,n):\n",
    "    item=int(input(\"enter element\"))\n",
    "    l.append(item)\n",
    "a=a+tuple(l)\n",
    "print(\"tuple is\",a)"
   ]
  },
  {
   "cell_type": "code",
   "execution_count": 1,
   "id": "4673d757",
   "metadata": {},
   "outputs": [
    {
     "name": "stdout",
     "output_type": "stream",
     "text": [
      "enter the integer :12345\n",
      "The reversed integer is: 54321\n"
     ]
    }
   ],
   "source": [
    "#44.Wap to reverse an integer\n",
    "n=int(input(\"enter the integer :\"))\n",
    "x=n\n",
    "r=0\n",
    "while n>0:\n",
    "    d=n%10\n",
    "    r=r*10+d\n",
    "    n=n//10\n",
    "print(\"The reversed integer is:\",r)"
   ]
  },
  {
   "cell_type": "code",
   "execution_count": null,
   "id": "63c40ba9",
   "metadata": {},
   "outputs": [],
   "source": []
  }
 ],
 "metadata": {
  "kernelspec": {
   "display_name": "Python 3 (ipykernel)",
   "language": "python",
   "name": "python3"
  },
  "language_info": {
   "codemirror_mode": {
    "name": "ipython",
    "version": 3
   },
   "file_extension": ".py",
   "mimetype": "text/x-python",
   "name": "python",
   "nbconvert_exporter": "python",
   "pygments_lexer": "ipython3",
   "version": "3.10.9"
  }
 },
 "nbformat": 4,
 "nbformat_minor": 5
}
