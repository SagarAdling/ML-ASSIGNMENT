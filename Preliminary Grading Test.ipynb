{
 "cells": [
  {
   "cell_type": "code",
   "execution_count": null,
   "id": "5e8d7201",
   "metadata": {},
   "outputs": [],
   "source": [
    "# 1.\n",
    "# Given an integer, n, perform the following conditional actions:\n",
    "# •\tIf  n is odd, print Weird \n",
    "# •\tIf n is even and in the inclusive range of 2 to 5, print Not Weird\n",
    "# •\tIf n is even and in the inclusive range of 6 to 20, print Weird\n",
    "# •\tIf n is even greater than 20, print Not Weird\n",
    "\n",
    "# n = 3 \n"
   ]
  },
  {
   "cell_type": "code",
   "execution_count": 33,
   "id": "fe168101",
   "metadata": {},
   "outputs": [
    {
     "name": "stdout",
     "output_type": "stream",
     "text": [
      "Enter the number3\n",
      "Weird\n"
     ]
    }
   ],
   "source": [
    "n = int(input(\"Enter the number\"))\n",
    "if n%2 != 0:\n",
    "    print('Weird')\n",
    "elif n in range(2,5):\n",
    "    if n%2 == 0: \n",
    "        print('Not Weird')\n",
    "elif n in range(6,20):\n",
    "    if n%2 == 0: \n",
    "        print('Weird')\n",
    "# else n>20:\n",
    "#     n%2 == 0:\n",
    "#         print(\"Not Weird\")"
   ]
  },
  {
   "cell_type": "code",
   "execution_count": null,
   "id": "8b58d279",
   "metadata": {},
   "outputs": [],
   "source": [
    "# 2.\n",
    "# The list of non-negative integers that are less than n = 3 is [ 0, 1, 2 ].\n",
    "# Print the square of each number on a separate line"
   ]
  },
  {
   "cell_type": "code",
   "execution_count": 34,
   "id": "221f32f6",
   "metadata": {},
   "outputs": [
    {
     "name": "stdout",
     "output_type": "stream",
     "text": [
      "Enter the number3\n",
      "The square of 0 is: 0\n",
      "The square of 1 is: 1\n",
      "The square of 2 is: 4\n"
     ]
    }
   ],
   "source": [
    "n = n = int(input(\"Enter the number\"))\n",
    "\n",
    "for i in range(n):\n",
    "    square = i ** 2\n",
    "    print(f\"The square of {i} is: {square}\")\n"
   ]
  },
  {
   "cell_type": "code",
   "execution_count": null,
   "id": "7ad4745b",
   "metadata": {},
   "outputs": [],
   "source": [
    "# 3.\n",
    "# You are given three integers x, y and z representing the dimensions of a cuboid along with\n",
    "# an integer n. Print a list of all possible coordinates given by (i, j, k) on a 3D grid where\n",
    "# the sum of i + j + k is not equal to n. Here, 0 <= i <= x; 0 <= j <= y; 0 <= k <= z. \n",
    "# Please use list comprehensions rather than multiple loops, as a learning exercise"
   ]
  },
  {
   "cell_type": "code",
   "execution_count": null,
   "id": "21fb864b",
   "metadata": {},
   "outputs": [],
   "source": []
  },
  {
   "cell_type": "code",
   "execution_count": null,
   "id": "c4cd682f",
   "metadata": {},
   "outputs": [],
   "source": [
    "# 4.\n",
    "# Given the participants’ score sheet for your University Sports Day, you are required to find \n",
    "# the runner-up score. You are given n scores. Store them in a list and find the score of the runner-up\n",
    "# Given list is [2, 3, 6, 6, 5]\n"
   ]
  },
  {
   "cell_type": "code",
   "execution_count": 21,
   "id": "e775f9be",
   "metadata": {},
   "outputs": [
    {
     "name": "stdout",
     "output_type": "stream",
     "text": [
      "The runner-up score is: 5\n"
     ]
    }
   ],
   "source": [
    "# given list:\n",
    "List = [2,3,6,6,5]\n",
    "new_list = sorted(set(List),reverse = True)\n",
    "\n",
    "if len(new_list) > 1:\n",
    "    runner_up_score = new_list[1]\n",
    "    print(f\"The runner-up score is: {runner_up_score}\")\n",
    "else:\n",
    "    print(\"There is no runner-up score.\")\n"
   ]
  },
  {
   "cell_type": "code",
   "execution_count": null,
   "id": "255770eb",
   "metadata": {},
   "outputs": [],
   "source": [
    "# 5.\n",
    "# The provided code stub read in a dictionary containing key/value pairs of name:[Marks] for a \n",
    "# list of students. Print the average of the marks array for the student name provided,\n",
    "# showing 2 places after the decimal\n",
    "\n",
    "# marks key: value pairs are\n",
    "# ‘alpha’:[20, 30, 40]\n",
    "# ‘beta’:[30, 50, 70]\n",
    "\n"
   ]
  },
  {
   "cell_type": "code",
   "execution_count": 29,
   "id": "189894ee",
   "metadata": {},
   "outputs": [
    {
     "name": "stdout",
     "output_type": "stream",
     "text": [
      "The average marks for alpha is: 30.00\n"
     ]
    }
   ],
   "source": [
    "student_marks = {\n",
    "     'alpha':[20, 30, 40],\n",
    "     'beta':[30, 50, 70]\n",
    "}\n",
    "def average_marks(student):\n",
    "    if student in student_marks:\n",
    "        marks = student_marks[student]\n",
    "        average = sum(marks)/len(marks)\n",
    "        return average\n",
    "    else:\n",
    "        return none\n",
    "    \n",
    "student_name_to_find = 'alpha'\n",
    "average_mark = average_marks(student_name_to_find)\n",
    "\n",
    "if average_marks is not None:\n",
    "    print(f\"The average marks for {student_name_to_find} is: {average_mark:.2f}\")\n",
    "else:\n",
    "    print(f\"Student {student_name_to_find} not found.\")"
   ]
  },
  {
   "cell_type": "code",
   "execution_count": null,
   "id": "e83d8669",
   "metadata": {},
   "outputs": [],
   "source": [
    "# 6.\n",
    "# You are given a string and your task is to swap cases. In other words, convert all lowercase \n",
    "# letters to uppercase letters and vice versa."
   ]
  },
  {
   "cell_type": "code",
   "execution_count": 31,
   "id": "d5ab6984",
   "metadata": {},
   "outputs": [
    {
     "name": "stdout",
     "output_type": "stream",
     "text": [
      "Original string: Hello World!\n",
      "String after swapping cases: hELLO wORLD!\n"
     ]
    }
   ],
   "source": [
    "def swap_cases(string):\n",
    "    return string.swapcase()\n",
    "\n",
    "# Example\n",
    "string = \"Hello World!\"\n",
    "after_swapping = swap_cases(string)\n",
    "\n",
    "print(f\"Original string: {string}\")\n",
    "print(f\"String after swapping cases: {after_swapping}\")\n"
   ]
  },
  {
   "cell_type": "code",
   "execution_count": null,
   "id": "2634abf9",
   "metadata": {},
   "outputs": [],
   "source": [
    "# 7.\n",
    "# You are given a string. Split the string on a ” ” (space) delimiter and join using a – hyphen.\n"
   ]
  },
  {
   "cell_type": "code",
   "execution_count": 32,
   "id": "5217eb7f",
   "metadata": {},
   "outputs": [
    {
     "name": "stdout",
     "output_type": "stream",
     "text": [
      "This-is-a-sample-string\n"
     ]
    }
   ],
   "source": [
    "string = \"This is a sample string\"\n",
    "split_list = string.split(\" \")  # Splitting the string on space delimiter\n",
    "joined_string = \"-\".join(split_list)  # Joining the list using hyphen\n",
    "print(joined_string)\n"
   ]
  },
  {
   "cell_type": "code",
   "execution_count": 35,
   "id": "13a142d6",
   "metadata": {},
   "outputs": [],
   "source": [
    "# 8.\n",
    "# .In this challenge, the user enters a string and a substring.\n",
    "# You have to print the number of times that the substring occurs in the given string. \n",
    "# String traversal will take place from left to right, not from right to left\n"
   ]
  },
  {
   "cell_type": "code",
   "execution_count": 37,
   "id": "5f5c3226",
   "metadata": {},
   "outputs": [
    {
     "name": "stdout",
     "output_type": "stream",
     "text": [
      "Enter the main string: Welcome to ml class,we are the students of ml class\n",
      "Enter the substring to count: ml class\n",
      "The substring 'ml class' occurs 2 times in the given string.\n"
     ]
    }
   ],
   "source": [
    "def count_substring(string, substring):\n",
    "    count = 0\n",
    "    for i in range(len(string) - len(substring) + 1):\n",
    "        if string[i:i+len(substring)] == substring:\n",
    "            count += 1\n",
    "    return count\n",
    "\n",
    "# Taking input from the user\n",
    "input_string = input(\"Enter the main string: \")\n",
    "input_substring = input(\"Enter the substring to count: \")\n",
    "\n",
    "# Calling the function to count occurrences\n",
    "result = count_substring(input_string, input_substring)\n",
    "\n",
    "# Printing the result\n",
    "print(f\"The substring '{input_substring}' occurs {result} times in the given string.\")\n"
   ]
  },
  {
   "cell_type": "code",
   "execution_count": 38,
   "id": "d5a9fd39",
   "metadata": {},
   "outputs": [],
   "source": [
    "# 9.\n",
    "# You are given a string S.\n",
    "# Your task is to find out if the string S contains: alphanumeric characters, alphabetical \n",
    "# characters, digits, lowercase and uppercase characters.\n"
   ]
  },
  {
   "cell_type": "code",
   "execution_count": 39,
   "id": "7902072f",
   "metadata": {
    "scrolled": true
   },
   "outputs": [
    {
     "name": "stdout",
     "output_type": "stream",
     "text": [
      "Enter the string: My name is Sagar and im 22 years old\n",
      "Alphanumeric: True\n",
      "Alphabetical: True\n",
      "Digits: True\n",
      "Lowercase: True\n",
      "Uppercase: True\n"
     ]
    }
   ],
   "source": [
    "def check_characteristics(s):\n",
    "    # Check if the string contains alphanumeric characters\n",
    "    is_alphanumeric = any(c.isalnum() for c in s)\n",
    "\n",
    "    # Check if the string contains alphabetical characters\n",
    "    is_alpha = any(c.isalpha() for c in s)\n",
    "\n",
    "    # Check if the string contains digits\n",
    "    is_digit = any(c.isdigit() for c in s)\n",
    "\n",
    "    # Check if the string contains lowercase characters\n",
    "    is_lower = any(c.islower() for c in s)\n",
    "\n",
    "    # Check if the string contains uppercase characters\n",
    "    is_upper = any(c.isupper() for c in s)\n",
    "\n",
    "    # Print the results\n",
    "    print(f\"Alphanumeric: {is_alphanumeric}\")\n",
    "    print(f\"Alphabetical: {is_alpha}\")\n",
    "    print(f\"Digits: {is_digit}\")\n",
    "    print(f\"Lowercase: {is_lower}\")\n",
    "    print(f\"Uppercase: {is_upper}\")\n",
    "\n",
    "# Taking input from the user\n",
    "input_string = input(\"Enter the string: \")\n",
    "\n",
    "# Calling the function to check characteristics\n",
    "check_characteristics(input_string)\n"
   ]
  },
  {
   "cell_type": "code",
   "execution_count": 40,
   "id": "3bef0d25",
   "metadata": {},
   "outputs": [],
   "source": [
    "# 10.\n",
    "# .Write a Python program to check that a string contains only a certain set of characters\n",
    "# (in this case a-z, A-Z and 0-9)"
   ]
  },
  {
   "cell_type": "code",
   "execution_count": 41,
   "id": "8d04d671",
   "metadata": {},
   "outputs": [
    {
     "name": "stdout",
     "output_type": "stream",
     "text": [
      "Enter the string:  My name is Sagar and im 22 years old\n",
      "The string contains other characters besides a-z, A-Z, and 0-9.\n"
     ]
    }
   ],
   "source": [
    "import re\n",
    "\n",
    "def contains_only_allowed_characters(s):\n",
    "    # Define the allowed characters using a regular expression\n",
    "    allowed_characters_pattern = re.compile(r'^[a-zA-Z0-9]+$')\n",
    "\n",
    "    # Check if the string contains only allowed characters\n",
    "    return bool(allowed_characters_pattern.match(s))\n",
    "\n",
    "# Taking input from the user\n",
    "input_string = input(\"Enter the string: \")\n",
    "\n",
    "# Calling the function to check if the string contains only allowed characters\n",
    "result = contains_only_allowed_characters(input_string)\n",
    "\n",
    "# Print the result\n",
    "if result:\n",
    "    print(\"The string contains only a-z, A-Z, and 0-9 characters.\")\n",
    "else:\n",
    "    print(\"The string contains other characters besides a-z, A-Z, and 0-9.\")\n"
   ]
  },
  {
   "cell_type": "code",
   "execution_count": 42,
   "id": "f8076aa8",
   "metadata": {},
   "outputs": [],
   "source": [
    "# 11.\n",
    "# Write a Python program that matches a string that has an a followed by zero or more b's\n"
   ]
  },
  {
   "cell_type": "code",
   "execution_count": 49,
   "id": "eb13a2f5",
   "metadata": {},
   "outputs": [
    {
     "name": "stdout",
     "output_type": "stream",
     "text": [
      "Enter the string: am i alive\n",
      "The string matches the pattern: 'a' followed by zero or more 'b's.\n"
     ]
    }
   ],
   "source": [
    "import re\n",
    "\n",
    "def match_pattern(s):\n",
    "    # Define the pattern using a regular expression\n",
    "    pattern = re.compile(r'ab*')\n",
    "\n",
    "    # Check if the string matches the pattern\n",
    "    return bool(pattern.match(s))\n",
    "\n",
    "# Taking input from the user\n",
    "input_string = input(\"Enter the string: \")\n",
    "\n",
    "# Calling the function to check if the string matches the pattern\n",
    "result = match_pattern(input_string)\n",
    "\n",
    "# Print the result\n",
    "if result:\n",
    "    print(\"The string matches the pattern: 'a' followed by zero or more 'b's.\")\n",
    "else:\n",
    "    print(\"The string does not match the pattern.\")\n"
   ]
  },
  {
   "cell_type": "code",
   "execution_count": 44,
   "id": "0edb5ad2",
   "metadata": {},
   "outputs": [],
   "source": [
    "# 12.\n",
    "# Write a Python program that matches a string that has an a followed by one or more b's"
   ]
  },
  {
   "cell_type": "code",
   "execution_count": 50,
   "id": "f1e82fba",
   "metadata": {},
   "outputs": [
    {
     "name": "stdout",
     "output_type": "stream",
     "text": [
      "Enter the string: am i alive or what?\n",
      "The string does not match the pattern.\n"
     ]
    }
   ],
   "source": [
    "import re\n",
    "\n",
    "def match_pattern(s):\n",
    "    # Define the pattern using a regular expression\n",
    "    pattern = re.compile(r'ab+')\n",
    "\n",
    "    # Check if the string matches the pattern\n",
    "    return bool(pattern.match(s))\n",
    "\n",
    "# Taking input from the user\n",
    "input_string = input(\"Enter the string: \")\n",
    "\n",
    "# Calling the function to check if the string matches the pattern\n",
    "result = match_pattern(input_string)\n",
    "\n",
    "# Print the result\n",
    "if result:\n",
    "    print(\"The string matches the pattern: 'a' followed by one or more 'b's.\")\n",
    "else:\n",
    "    print(\"The string does not match the pattern.\")\n"
   ]
  },
  {
   "cell_type": "code",
   "execution_count": 51,
   "id": "27144601",
   "metadata": {},
   "outputs": [],
   "source": [
    "# 13.\n",
    "# .Write a Python program that matches a string that has an a followed by three 'b'\n"
   ]
  },
  {
   "cell_type": "code",
   "execution_count": 57,
   "id": "f3970d8f",
   "metadata": {},
   "outputs": [
    {
     "name": "stdout",
     "output_type": "stream",
     "text": [
      "Enter the string: abbbey yar...\n",
      "The string matches the pattern: 'a' followed by three 'b's.\n"
     ]
    }
   ],
   "source": [
    "import re\n",
    "\n",
    "def match_pattern(s):\n",
    "    # Define the pattern using a regular expression\n",
    "    pattern = re.compile(r'abb{2}')\n",
    "\n",
    "    # Check if the string matches the pattern\n",
    "    return bool(pattern.search(s))\n",
    "\n",
    "# Taking input from the user\n",
    "input_string = input(\"Enter the string: \")\n",
    "\n",
    "# Calling the function to check if the string matches the pattern\n",
    "result = match_pattern(input_string)\n",
    "\n",
    "# Print the result\n",
    "if result:\n",
    "    print(\"The string matches the pattern: 'a' followed by three 'b's.\")\n",
    "else:\n",
    "    print(\"The string does not match the pattern.\")\n",
    "    \n"
   ]
  },
  {
   "cell_type": "code",
   "execution_count": 58,
   "id": "be50c8f4",
   "metadata": {},
   "outputs": [],
   "source": [
    "# 14.\n",
    "# Write a Python program that matches a string that has an a followed by two to three 'b'"
   ]
  },
  {
   "cell_type": "code",
   "execution_count": 59,
   "id": "7c464521",
   "metadata": {},
   "outputs": [
    {
     "name": "stdout",
     "output_type": "stream",
     "text": [
      "Enter the string: am i alive or what?\n",
      "The string does not match the pattern.\n"
     ]
    }
   ],
   "source": [
    "import re\n",
    "\n",
    "def match_pattern(s):\n",
    "    # Define the pattern using a regular expression\n",
    "    pattern = re.compile(r'ab{2,3}')\n",
    "\n",
    "    # Check if the string matches the pattern\n",
    "    return bool(pattern.search(s))\n",
    "\n",
    "# Taking input from the user\n",
    "input_string = input(\"Enter the string: \")\n",
    "\n",
    "# Calling the function to check if the string matches the pattern\n",
    "result = match_pattern(input_string)\n",
    "\n",
    "# Print the result\n",
    "if result:\n",
    "    print(\"The string matches the pattern: 'a' followed by two to three 'b's.\")\n",
    "else:\n",
    "    print(\"The string does not match the pattern.\")\n"
   ]
  },
  {
   "cell_type": "code",
   "execution_count": 60,
   "id": "51d1859c",
   "metadata": {},
   "outputs": [],
   "source": [
    "# 15.\n",
    "# Write a Python program to find sequences of lowercase letters joined with a underscore."
   ]
  },
  {
   "cell_type": "code",
   "execution_count": 61,
   "id": "ae852960",
   "metadata": {},
   "outputs": [
    {
     "name": "stdout",
     "output_type": "stream",
     "text": [
      "Enter the string: hello_world\n",
      "Sequences of lowercase letters joined with an underscore:\n",
      "hello_world\n"
     ]
    }
   ],
   "source": [
    "import re\n",
    "\n",
    "def find_sequences(s):\n",
    "    # Define the pattern using a regular expression\n",
    "    pattern = re.compile(r'[a-z]+_[a-z]+')\n",
    "\n",
    "    # Find all occurrences of the pattern in the string\n",
    "    matches = pattern.findall(s)\n",
    "\n",
    "    return matches\n",
    "\n",
    "# Taking input from the user\n",
    "input_string = input(\"Enter the string: \")\n",
    "\n",
    "# Calling the function to find sequences\n",
    "result = find_sequences(input_string)\n",
    "\n",
    "# Print the result\n",
    "if result:\n",
    "    print(\"Sequences of lowercase letters joined with an underscore:\")\n",
    "    for match in result:\n",
    "        print(match)\n",
    "else:\n",
    "    print(\"No matching sequences found.\")\n"
   ]
  },
  {
   "cell_type": "code",
   "execution_count": 62,
   "id": "1686633a",
   "metadata": {},
   "outputs": [],
   "source": [
    "# 16.\n",
    "# .Write a Python program to find the sequences of one upper case letter followed by lower\n",
    "# case letters.\n",
    "\n"
   ]
  },
  {
   "cell_type": "code",
   "execution_count": 63,
   "id": "efe411f5",
   "metadata": {},
   "outputs": [
    {
     "name": "stdout",
     "output_type": "stream",
     "text": [
      "Enter the string: Hello_World\n",
      "Sequences of one uppercase letter followed by lowercase letters:\n",
      "Hello\n",
      "World\n"
     ]
    }
   ],
   "source": [
    "import re\n",
    "\n",
    "def find_sequences(s):\n",
    "    # Define the pattern using a regular expression\n",
    "    pattern = re.compile(r'[A-Z][a-z]+')\n",
    "\n",
    "    # Find all occurrences of the pattern in the string\n",
    "    matches = pattern.findall(s)\n",
    "\n",
    "    return matches\n",
    "\n",
    "# Taking input from the user\n",
    "input_string = input(\"Enter the string: \")\n",
    "\n",
    "# Calling the function to find sequences\n",
    "result = find_sequences(input_string)\n",
    "\n",
    "# Print the result\n",
    "if result:\n",
    "    print(\"Sequences of one uppercase letter followed by lowercase letters:\")\n",
    "    for match in result:\n",
    "        print(match)\n",
    "else:\n",
    "    print(\"No matching sequences found.\")\n"
   ]
  },
  {
   "cell_type": "code",
   "execution_count": 64,
   "id": "52bc3543",
   "metadata": {},
   "outputs": [],
   "source": [
    "# 17.\n",
    "# Write a Python program that matches a string that has an 'a' followed by anything, ending in 'b'.\n",
    "\n"
   ]
  },
  {
   "cell_type": "code",
   "execution_count": 66,
   "id": "9321096f",
   "metadata": {},
   "outputs": [
    {
     "name": "stdout",
     "output_type": "stream",
     "text": [
      "Enter the string: are you ready my big b\n",
      "The string matches the pattern: 'a' followed by anything, ending in 'b'.\n"
     ]
    }
   ],
   "source": [
    "import re\n",
    "\n",
    "def match_pattern(s):\n",
    "    # Define the pattern using a regular expression\n",
    "    pattern = re.compile(r'a.*b$')\n",
    "\n",
    "    # Check if the string matches the pattern\n",
    "    return bool(pattern.match(s))\n",
    "\n",
    "# Taking input from the user\n",
    "input_string = input(\"Enter the string: \")\n",
    "\n",
    "# Calling the function to check if the string matches the pattern\n",
    "result = match_pattern(input_string)\n",
    "\n",
    "# Print the result\n",
    "if result:\n",
    "    print(\"The string matches the pattern: 'a' followed by anything, ending in 'b'.\")\n",
    "else:\n",
    "    print(\"The string does not match the pattern.\")\n"
   ]
  },
  {
   "cell_type": "code",
   "execution_count": 67,
   "id": "ce650364",
   "metadata": {},
   "outputs": [],
   "source": [
    "# 18.\n",
    "# Write a Python program that matches a word at the beginning of a string."
   ]
  },
  {
   "cell_type": "code",
   "execution_count": 68,
   "id": "377e9623",
   "metadata": {},
   "outputs": [
    {
     "name": "stdout",
     "output_type": "stream",
     "text": [
      "Enter the string: hi there\n",
      "The word at the beginning of the string is: hi\n"
     ]
    }
   ],
   "source": [
    "import re\n",
    "\n",
    "def match_pattern(s):\n",
    "    # Define the pattern using a regular expression\n",
    "    pattern = re.compile(r'^\\w+')\n",
    "\n",
    "    # Check if the string matches the pattern\n",
    "    match = pattern.match(s)\n",
    "\n",
    "    return match.group() if match else None\n",
    "\n",
    "# Taking input from the user\n",
    "input_string = input(\"Enter the string: \")\n",
    "\n",
    "# Calling the function to check if the string matches the pattern\n",
    "result = match_pattern(input_string)\n",
    "\n",
    "# Print the result\n",
    "if result:\n",
    "    print(f\"The word at the beginning of the string is: {result}\")\n",
    "else:\n",
    "    print(\"No matching word found at the beginning of the string.\")\n"
   ]
  },
  {
   "cell_type": "code",
   "execution_count": 69,
   "id": "962896f0",
   "metadata": {},
   "outputs": [],
   "source": [
    "# 19.\n",
    "# Write a Python program that matches a word at the end of string, with optional punctuation."
   ]
  },
  {
   "cell_type": "code",
   "execution_count": 70,
   "id": "a487b70a",
   "metadata": {},
   "outputs": [
    {
     "name": "stdout",
     "output_type": "stream",
     "text": [
      "Enter the string: Hi,how are you?\n",
      "The word at the end of the string with optional punctuation is: you?\n"
     ]
    }
   ],
   "source": [
    "import re\n",
    "\n",
    "def match_pattern(s):\n",
    "    # Define the pattern using a regular expression\n",
    "    pattern = re.compile(r'\\b\\w+\\b[.,;!?]*$')\n",
    "\n",
    "    # Check if the string matches the pattern\n",
    "    match = pattern.search(s)\n",
    "\n",
    "    return match.group() if match else None\n",
    "\n",
    "# Taking input from the user\n",
    "input_string = input(\"Enter the string: \")\n",
    "\n",
    "# Calling the function to check if the string matches the pattern\n",
    "result = match_pattern(input_string)\n",
    "\n",
    "# Print the result\n",
    "if result:\n",
    "    print(f\"The word at the end of the string with optional punctuation is: {result}\")\n",
    "else:\n",
    "    print(\"No matching word found at the end of the string.\")\n"
   ]
  },
  {
   "cell_type": "code",
   "execution_count": 71,
   "id": "0c4570b5",
   "metadata": {},
   "outputs": [],
   "source": [
    "# 20.\n",
    "# Write a Python program that matches a word containing 'z', not at the start or end of the word."
   ]
  },
  {
   "cell_type": "code",
   "execution_count": 72,
   "id": "9bfbed19",
   "metadata": {},
   "outputs": [
    {
     "name": "stdout",
     "output_type": "stream",
     "text": [
      "Enter the string: In statistics z test is used when sample size is more than 30\n",
      "Words containing 'z', but not at the start or end: ['z', 'size']\n"
     ]
    }
   ],
   "source": [
    "import re\n",
    "\n",
    "def match_pattern(s):\n",
    "    # Define the pattern using a regular expression\n",
    "    pattern = re.compile(r'\\b\\w*z\\w*\\b')\n",
    "\n",
    "    # Check if the string matches the pattern\n",
    "    matches = pattern.findall(s)\n",
    "\n",
    "    return matches\n",
    "\n",
    "# Taking input from the user\n",
    "input_string = input(\"Enter the string: \")\n",
    "\n",
    "# Calling the function to check if the string matches the pattern\n",
    "result = match_pattern(input_string)\n",
    "\n",
    "# Print the result\n",
    "if result:\n",
    "    print(f\"Words containing 'z', but not at the start or end: {result}\")\n",
    "else:\n",
    "    print(\"No matching words found.\")\n"
   ]
  },
  {
   "cell_type": "code",
   "execution_count": 73,
   "id": "57de6d04",
   "metadata": {},
   "outputs": [],
   "source": [
    "# 21.\n",
    "# Write a Python program where a string will start with a specific number."
   ]
  },
  {
   "cell_type": "code",
   "execution_count": 74,
   "id": "58957540",
   "metadata": {},
   "outputs": [
    {
     "name": "stdout",
     "output_type": "stream",
     "text": [
      "Enter the string: 17  is my favourite number\n",
      "Enter the specific number to check for at the beginning: 17\n",
      "The string starts with the specified number: 17\n"
     ]
    }
   ],
   "source": [
    "import re\n",
    "\n",
    "def starts_with_number(s, number):\n",
    "    # Define the pattern using a regular expression\n",
    "    pattern = re.compile(fr'^{number}')\n",
    "\n",
    "    # Check if the string matches the pattern\n",
    "    return bool(pattern.match(s))\n",
    "\n",
    "# Taking input from the user\n",
    "input_string = input(\"Enter the string: \")\n",
    "specified_number = input(\"Enter the specific number to check for at the beginning: \")\n",
    "\n",
    "# Calling the function to check if the string starts with the specified number\n",
    "result = starts_with_number(input_string, specified_number)\n",
    "\n",
    "# Print the result\n",
    "if result:\n",
    "    print(f\"The string starts with the specified number: {specified_number}\")\n",
    "else:\n",
    "    print(f\"The string does not start with the specified number: {specified_number}\")\n"
   ]
  },
  {
   "cell_type": "code",
   "execution_count": 75,
   "id": "7358b70f",
   "metadata": {},
   "outputs": [],
   "source": [
    "# 22.\n",
    "# Write a Python program to check for a number at the end of a string."
   ]
  },
  {
   "cell_type": "code",
   "execution_count": 76,
   "id": "7b96ae35",
   "metadata": {},
   "outputs": [
    {
     "name": "stdout",
     "output_type": "stream",
     "text": [
      "Enter the string: The string starts with the specified number: 17\n",
      "The string ends with a number.\n"
     ]
    }
   ],
   "source": [
    "import re\n",
    "\n",
    "def ends_with_number(s):\n",
    "    # Define the pattern using a regular expression\n",
    "    pattern = re.compile(r'\\d$')\n",
    "\n",
    "    # Check if the string matches the pattern\n",
    "    return bool(pattern.search(s))\n",
    "\n",
    "# Taking input from the user\n",
    "input_string = input(\"Enter the string: \")\n",
    "\n",
    "# Calling the function to check if the string ends with a number\n",
    "result = ends_with_number(input_string)\n",
    "\n",
    "# Print the result\n",
    "if result:\n",
    "    print(\"The string ends with a number.\")\n",
    "else:\n",
    "    print(\"The string does not end with a number.\")\n"
   ]
  },
  {
   "cell_type": "code",
   "execution_count": 77,
   "id": "63234652",
   "metadata": {},
   "outputs": [],
   "source": [
    "# 23.\n",
    "# Write a Python program to search the numbers (0-9) of length between 1 to 3 in a given string."
   ]
  },
  {
   "cell_type": "code",
   "execution_count": 78,
   "id": "b93513c0",
   "metadata": {},
   "outputs": [
    {
     "name": "stdout",
     "output_type": "stream",
     "text": [
      "The numbers of length between 1 to 3 in the given string are: ['964', '496']\n"
     ]
    }
   ],
   "source": [
    "numbers = []\n",
    "current_number = \"\"\n",
    "string = \"7767 good morning 964 all 496\"\n",
    "for char in string:\n",
    "    if char.isdigit():\n",
    "        current_number += char\n",
    "    elif current_number:\n",
    "        if len(current_number) <= 3:\n",
    "            numbers.append(current_number)\n",
    "        current_number = \"\"\n",
    "if current_number and len(current_number) <= 3:\n",
    "    numbers.append(current_number)\n",
    "\n",
    "print(f\"The numbers of length between 1 to 3 in the given string are: {numbers}\")"
   ]
  },
  {
   "cell_type": "code",
   "execution_count": 79,
   "id": "863147da",
   "metadata": {},
   "outputs": [],
   "source": [
    "# 24.\n",
    "# Write a Python program to search some literals strings in a string. Go to the editor Sample \n",
    "# text : 'The quick brown fox jumps over the lazy dog.' Searched words : 'fox', 'dog', 'horse'\n",
    "\n",
    "# "
   ]
  },
  {
   "cell_type": "code",
   "execution_count": 80,
   "id": "6b3d3f28",
   "metadata": {},
   "outputs": [
    {
     "name": "stdout",
     "output_type": "stream",
     "text": [
      "The following words were found in the string: ['fox', 'dog']\n"
     ]
    }
   ],
   "source": [
    "string = \"The quick brown fox jumps over the lazy dog.\"\n",
    "searched_words = [\"fox\", \"dog\", \"horse\"]\n",
    "found_words = []\n",
    "for word in searched_words:\n",
    "    if word in string:\n",
    "        found_words.append(word)\n",
    "\n",
    "if found_words:\n",
    "    print(f\"The following words were found in the string: {found_words}\")\n",
    "else:\n",
    "    print(\"None of the searched words were found in the string.\")"
   ]
  },
  {
   "cell_type": "code",
   "execution_count": 81,
   "id": "e02e334f",
   "metadata": {},
   "outputs": [],
   "source": [
    "# 25.\n",
    "# Write a Python program to search a literals string in a string and also find the location \n",
    "# within the original string where the pattern occurs"
   ]
  },
  {
   "cell_type": "code",
   "execution_count": 82,
   "id": "db37c31d",
   "metadata": {},
   "outputs": [
    {
     "name": "stdout",
     "output_type": "stream",
     "text": [
      "The pattern 'fox' was found in the string at index 16.\n"
     ]
    }
   ],
   "source": [
    "string = \"The quick brown fox jumps over the lazy dog.\"\n",
    "pattern = \"fox\"\n",
    "index = string.find(pattern)\n",
    "if index != -1:\n",
    "    print(f\"The pattern '{pattern}' was found in the string at index {index}.\")\n",
    "else:\n",
    "    print(f\"The pattern '{pattern}' was not found in the string.\")"
   ]
  },
  {
   "cell_type": "code",
   "execution_count": 83,
   "id": "d9c0ef09",
   "metadata": {},
   "outputs": [],
   "source": [
    "# 26.\n",
    "# Write a Python program to find the substrings within a string.\n",
    "# Sample text :\n",
    "# 'Python exercises, PHP exercises, C# exercises'\n",
    "# Pattern :\n",
    "# 'exercises'\n"
   ]
  },
  {
   "cell_type": "code",
   "execution_count": 84,
   "id": "6b97f979",
   "metadata": {},
   "outputs": [
    {
     "name": "stdout",
     "output_type": "stream",
     "text": [
      "The following words were found in the string: ['exercises', 'exercises', 'exercises']\n"
     ]
    }
   ],
   "source": [
    "string = \"Python exercises, PHP exercises, C# exercises\"\n",
    "pattern = \"exercises\"\n",
    "found_words = []\n",
    "index = 0\n",
    "while index < len(string):\n",
    "    index = string.find(pattern, index)\n",
    "    if index == -1:\n",
    "        break\n",
    "    found_words.append(pattern)\n",
    "    index += len(pattern)\n",
    "\n",
    "if found_words:\n",
    "    print(f\"The following words were found in the string: {found_words}\")\n",
    "else:\n",
    "    print(\"None of the searched words were found in the string.\")\n"
   ]
  },
  {
   "cell_type": "code",
   "execution_count": 85,
   "id": "88800a4c",
   "metadata": {},
   "outputs": [],
   "source": [
    "# 27.\n",
    "# Write a Python program to find the occurrence and position of the substrings within a string"
   ]
  },
  {
   "cell_type": "code",
   "execution_count": 86,
   "id": "44d0b97e",
   "metadata": {},
   "outputs": [
    {
     "name": "stdout",
     "output_type": "stream",
     "text": [
      "The following words were found in the string:\n",
      "'exercises' found at index 7\n",
      "'exercises' found at index 22\n",
      "'exercises' found at index 36\n"
     ]
    }
   ],
   "source": [
    "string = \"Python exercises, PHP exercises, C# exercises\"\n",
    "pattern = \"exercises\"\n",
    "found_words = [(pattern, index) for index in range(len(string)) if string.startswith(pattern, index)]\n",
    "\n",
    "if found_words:\n",
    "    print(f\"The following words were found in the string:\")\n",
    "    for word, index in found_words:\n",
    "        print(f\"'{word}' found at index {index}\")\n",
    "else:\n",
    "    print(\"None of the searched words were found in the string.\")"
   ]
  },
  {
   "cell_type": "code",
   "execution_count": 87,
   "id": "1be32ac8",
   "metadata": {},
   "outputs": [],
   "source": [
    "# 28.\n",
    "# Write a Python program to replace whitespaces with an underscore and vice versa."
   ]
  },
  {
   "cell_type": "code",
   "execution_count": 88,
   "id": "e8f432e3",
   "metadata": {},
   "outputs": [
    {
     "name": "stdout",
     "output_type": "stream",
     "text": [
      "Class_of_Machine_Learning\n",
      "Class of Machine Learning\n"
     ]
    }
   ],
   "source": [
    "text = 'Class of Machine Learning'\n",
    "text = text.replace(\" \", \"_\")\n",
    "print(text)\n",
    "text = text.replace(\"_\", \" \")\n",
    "print(text)"
   ]
  },
  {
   "cell_type": "code",
   "execution_count": 89,
   "id": "3359c717",
   "metadata": {},
   "outputs": [],
   "source": [
    "# 29.\n",
    "# Write a Python program to extract year, month and date from a an url."
   ]
  },
  {
   "cell_type": "code",
   "execution_count": 90,
   "id": "45701b1d",
   "metadata": {},
   "outputs": [
    {
     "name": "stdout",
     "output_type": "stream",
     "text": [
      "The year is 2024, the month is 01, and the day is 08.\n"
     ]
    }
   ],
   "source": [
    "import re\n",
    "def extract_date(url):\n",
    "    return re.findall(r'/(\\d{4})/(\\d{1,2})/(\\d{1,2})/', url)\n",
    "\n",
    "url = \"https://www.example.com/2024/01/08/index.html\"\n",
    "date = extract_date(url)\n",
    "print(f\"The year is {date[0][0]}, the month is {date[0][1]}, and the day is {date[0][2]}.\")"
   ]
  },
  {
   "cell_type": "code",
   "execution_count": 91,
   "id": "810f59ba",
   "metadata": {},
   "outputs": [],
   "source": [
    "# 30.\n",
    "# Write a Python program to convert a date of yyyy-mm-dd format to dd-mm-yyyy format."
   ]
  },
  {
   "cell_type": "code",
   "execution_count": 92,
   "id": "09a27e5e",
   "metadata": {},
   "outputs": [
    {
     "name": "stdout",
     "output_type": "stream",
     "text": [
      "The original date is 2024-01-08 and the new date is 08-01-2024.\n"
     ]
    }
   ],
   "source": [
    "date = \"2024-01-08\"\n",
    "year, month, day = date.split(\"-\")\n",
    "new_date = f\"{day}-{month}-{year}\"\n",
    "print(f\"The original date is {date} and the new date is {new_date}.\")"
   ]
  },
  {
   "cell_type": "code",
   "execution_count": null,
   "id": "82be782b",
   "metadata": {},
   "outputs": [],
   "source": []
  }
 ],
 "metadata": {
  "kernelspec": {
   "display_name": "Python 3 (ipykernel)",
   "language": "python",
   "name": "python3"
  },
  "language_info": {
   "codemirror_mode": {
    "name": "ipython",
    "version": 3
   },
   "file_extension": ".py",
   "mimetype": "text/x-python",
   "name": "python",
   "nbconvert_exporter": "python",
   "pygments_lexer": "ipython3",
   "version": "3.10.9"
  }
 },
 "nbformat": 4,
 "nbformat_minor": 5
}
